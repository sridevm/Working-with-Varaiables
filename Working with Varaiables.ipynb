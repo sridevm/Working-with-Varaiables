{
 "cells": [
  {
   "cell_type": "code",
   "execution_count": 1,
   "id": "5eb54de0",
   "metadata": {},
   "outputs": [],
   "source": [
    "#Arithmetics"
   ]
  },
  {
   "cell_type": "code",
   "execution_count": 2,
   "id": "b0b8b91f",
   "metadata": {},
   "outputs": [],
   "source": [
    "A=10\n",
    "B=20"
   ]
  },
  {
   "cell_type": "code",
   "execution_count": 3,
   "id": "4a7be5d2",
   "metadata": {},
   "outputs": [],
   "source": [
    "C=A + B"
   ]
  },
  {
   "cell_type": "code",
   "execution_count": 5,
   "id": "1dc4e457",
   "metadata": {},
   "outputs": [
    {
     "name": "stdout",
     "output_type": "stream",
     "text": [
      "30\n"
     ]
    }
   ],
   "source": [
    "print(C)"
   ]
  },
  {
   "cell_type": "code",
   "execution_count": 6,
   "id": "90b83c1c",
   "metadata": {},
   "outputs": [],
   "source": [
    "D= A/B"
   ]
  },
  {
   "cell_type": "code",
   "execution_count": 8,
   "id": "613b5d69",
   "metadata": {},
   "outputs": [
    {
     "name": "stdout",
     "output_type": "stream",
     "text": [
      "0.5\n"
     ]
    }
   ],
   "source": [
    "print(D)"
   ]
  },
  {
   "cell_type": "code",
   "execution_count": 9,
   "id": "bff6519d",
   "metadata": {},
   "outputs": [
    {
     "name": "stdout",
     "output_type": "stream",
     "text": [
      "30\n",
      "0.5\n"
     ]
    }
   ],
   "source": [
    "print(C)\n",
    "print(D)"
   ]
  },
  {
   "cell_type": "markdown",
   "id": "2dfe7508",
   "metadata": {},
   "source": [
    "---"
   ]
  },
  {
   "cell_type": "code",
   "execution_count": 10,
   "id": "f5422705",
   "metadata": {},
   "outputs": [],
   "source": [
    "# Importing Math Function"
   ]
  },
  {
   "cell_type": "code",
   "execution_count": 11,
   "id": "85088995",
   "metadata": {},
   "outputs": [],
   "source": [
    "import math"
   ]
  },
  {
   "cell_type": "code",
   "execution_count": 12,
   "id": "f25560f3",
   "metadata": {},
   "outputs": [
    {
     "data": {
      "text/plain": [
       "3.1622776601683795"
      ]
     },
     "execution_count": 12,
     "metadata": {},
     "output_type": "execute_result"
    }
   ],
   "source": [
    "math.sqrt(A)"
   ]
  },
  {
   "cell_type": "code",
   "execution_count": 13,
   "id": "8c9a37fc",
   "metadata": {},
   "outputs": [
    {
     "data": {
      "text/plain": [
       "4.47213595499958"
      ]
     },
     "execution_count": 13,
     "metadata": {},
     "output_type": "execute_result"
    }
   ],
   "source": [
    "math.sqrt(B)"
   ]
  },
  {
   "cell_type": "code",
   "execution_count": 14,
   "id": "71d9e51f",
   "metadata": {},
   "outputs": [
    {
     "data": {
      "text/plain": [
       "0.7071067811865476"
      ]
     },
     "execution_count": 14,
     "metadata": {},
     "output_type": "execute_result"
    }
   ],
   "source": [
    "math.sqrt(D)"
   ]
  },
  {
   "cell_type": "code",
   "execution_count": 15,
   "id": "3c3230f1",
   "metadata": {},
   "outputs": [
    {
     "data": {
      "text/plain": [
       "0.7071067811865476"
      ]
     },
     "execution_count": 15,
     "metadata": {},
     "output_type": "execute_result"
    }
   ],
   "source": [
    "math.sqrt(0.5)"
   ]
  },
  {
   "cell_type": "code",
   "execution_count": 16,
   "id": "fb0c33fc",
   "metadata": {},
   "outputs": [
    {
     "data": {
      "text/plain": [
       "1"
      ]
     },
     "execution_count": 16,
     "metadata": {},
     "output_type": "execute_result"
    }
   ],
   "source": [
    "round(math.sqrt(D))"
   ]
  },
  {
   "cell_type": "code",
   "execution_count": 17,
   "id": "c44dcc55",
   "metadata": {},
   "outputs": [
    {
     "data": {
      "text/plain": [
       "4"
      ]
     },
     "execution_count": 17,
     "metadata": {},
     "output_type": "execute_result"
    }
   ],
   "source": [
    "round(math.sqrt(B))"
   ]
  },
  {
   "cell_type": "markdown",
   "id": "665642dc",
   "metadata": {},
   "source": [
    "---"
   ]
  },
  {
   "cell_type": "code",
   "execution_count": 18,
   "id": "3475a5a1",
   "metadata": {},
   "outputs": [],
   "source": [
    "#Strings"
   ]
  },
  {
   "cell_type": "code",
   "execution_count": 19,
   "id": "3d63b698",
   "metadata": {},
   "outputs": [],
   "source": [
    "greetings = \"Hi\""
   ]
  },
  {
   "cell_type": "code",
   "execution_count": 20,
   "id": "aef2f59c",
   "metadata": {},
   "outputs": [],
   "source": [
    "name  = \"Sarah\""
   ]
  },
  {
   "cell_type": "code",
   "execution_count": 33,
   "id": "d35c377d",
   "metadata": {},
   "outputs": [],
   "source": [
    "Message = greetings + \"  \" + name"
   ]
  },
  {
   "cell_type": "code",
   "execution_count": 34,
   "id": "67e19751",
   "metadata": {},
   "outputs": [
    {
     "name": "stdout",
     "output_type": "stream",
     "text": [
      "Hi  Sarah\n"
     ]
    }
   ],
   "source": [
    "print(Message)"
   ]
  },
  {
   "cell_type": "code",
   "execution_count": 28,
   "id": "6658e03f",
   "metadata": {},
   "outputs": [
    {
     "name": "stdout",
     "output_type": "stream",
     "text": [
      "HiSarah\n"
     ]
    }
   ],
   "source": [
    "print(Message)"
   ]
  },
  {
   "cell_type": "code",
   "execution_count": 32,
   "id": "d8445567",
   "metadata": {},
   "outputs": [
    {
     "name": "stdout",
     "output_type": "stream",
     "text": [
      "HiSarah\n"
     ]
    }
   ],
   "source": [
    "print(Message)"
   ]
  },
  {
   "cell_type": "code",
   "execution_count": 30,
   "id": "38d95283",
   "metadata": {},
   "outputs": [],
   "source": [
    "message = greetings + \"  \" + name "
   ]
  },
  {
   "cell_type": "code",
   "execution_count": 31,
   "id": "2cc39522",
   "metadata": {},
   "outputs": [
    {
     "name": "stdout",
     "output_type": "stream",
     "text": [
      "Hi  Sarah\n"
     ]
    }
   ],
   "source": [
    "print(message)"
   ]
  },
  {
   "cell_type": "code",
   "execution_count": null,
   "id": "95d0a013",
   "metadata": {},
   "outputs": [],
   "source": []
  }
 ],
 "metadata": {
  "kernelspec": {
   "display_name": "Python 3 (ipykernel)",
   "language": "python",
   "name": "python3"
  },
  "language_info": {
   "codemirror_mode": {
    "name": "ipython",
    "version": 3
   },
   "file_extension": ".py",
   "mimetype": "text/x-python",
   "name": "python",
   "nbconvert_exporter": "python",
   "pygments_lexer": "ipython3",
   "version": "3.9.7"
  }
 },
 "nbformat": 4,
 "nbformat_minor": 5
}
